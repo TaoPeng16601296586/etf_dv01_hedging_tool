{
 "cells": [
  {
   "cell_type": "code",
   "execution_count": null,
   "id": "ceef825c",
   "metadata": {},
   "outputs": [],
   "source": [
    "\n",
    "import pandas as pd\n",
    "\n",
    "def calculate_etf_dv01(price: float, units: int, duration: float = 7.5) -> float:\n",
    "    \"\"\"估算ETF DV01，单位：元/bp\"\"\"\n",
    "    return price * units * duration * 0.0001\n",
    "\n",
    "def calculate_futures_dv01(ctd_dv01: float = 0.042, conversion_factor: float = 0.85) -> float:\n",
    "    \"\"\"\n",
    "    估算T合约一手期货的DV01\n",
    "    参数为：\n",
    "    - ctd_dv01: CTD券的DV01（单位元/每百元面值）\n",
    "    - conversion_factor: T合约的转换因子\n",
    "    \"\"\"\n",
    "    return (ctd_dv01 / conversion_factor) * 10000\n",
    "\n",
    "def recommend_hedge_lots(etf_dv01: float, fut_dv01: float) -> int:\n",
    "    \"\"\"根据ETF DV01和T合约DV01推荐对冲手数\"\"\"\n",
    "    return round(etf_dv01 / fut_dv01)\n",
    "\n",
    "# 示例运行（可在调试中测试用）\n",
    "if __name__ == \"__main__\":\n",
    "    etf_price = 100.0  # 假设每份ETF价格100元\n",
    "    etf_units = 10000  # 假设持有1万份\n",
    "    etf_dv01 = calculate_etf_dv01(etf_price, etf_units)\n",
    "\n",
    "    fut_dv01 = calculate_futures_dv01()\n",
    "    lots = recommend_hedge_lots(etf_dv01, fut_dv01)\n",
    "\n",
    "    print(f\"ETF DV01: {etf_dv01:.2f} 元/bp\")\n",
    "    print(f\"T合约 DV01: {fut_dv01:.2f} 元/手\")\n",
    "    print(f\"推荐对冲手数: {lots} 手\")\n"
   ]
  }
 ],
 "metadata": {
  "language_info": {
   "name": "python"
  }
 },
 "nbformat": 4,
 "nbformat_minor": 5
}
