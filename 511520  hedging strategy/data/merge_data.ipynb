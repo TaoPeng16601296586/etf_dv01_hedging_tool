{
 "cells": [
  {
   "cell_type": "code",
   "execution_count": null,
   "id": "ebf7f662",
   "metadata": {},
   "outputs": [
    {
     "name": "stdout",
     "output_type": "stream",
     "text": [
      "读取ETF与期货数据...\n",
      "按日期对齐数据...\n",
      "合并后数据维度: (139, 17)\n",
      "合并数据保存成功：C:\\Users\\l\\OneDrive\\桌面\\东方财富\\511520  hedging strategy\\data\\etf_futures_merged.csv\n"
     ]
    },
    {
     "ename": "",
     "evalue": "",
     "output_type": "error",
     "traceback": [
      "\u001b[1;31m在当前单元格或上一个单元格中执行代码时 Kernel 崩溃。\n",
      "\u001b[1;31m请查看单元格中的代码，以确定故障的可能原因。\n",
      "\u001b[1;31m单击<a href='https://aka.ms/vscodeJupyterKernelCrash'>此处</a>了解详细信息。\n",
      "\u001b[1;31m有关更多详细信息，请查看 Jupyter <a href='command:jupyter.viewOutput'>log</a>。"
     ]
    }
   ],
   "source": [
    "import pandas as pd\n",
    "\n",
    "# 设置本地路径\n",
    "ETF_PATH = r\"C:\\Users\\l\\OneDrive\\桌面\\东方财富\\511520  hedging strategy\\data\\etf_511520.csv\"\n",
    "FUTURES_PATH = r\"C:\\Users\\l\\OneDrive\\桌面\\东方财富\\511520  hedging strategy\\data\\futures_T_specific.csv\"\n",
    "MERGED_PATH = r\"C:\\Users\\l\\OneDrive\\桌面\\东方财富\\511520  hedging strategy\\data\\etf_futures_merged.csv\"\n",
    "\n",
    "def merge_data():\n",
    "    print(\"读取ETF与期货数据...\")\n",
    "    etf_df = pd.read_csv(ETF_PATH, parse_dates=[\"date\"])\n",
    "    fut_df = pd.read_csv(FUTURES_PATH, parse_dates=[\"date\"])\n",
    "\n",
    "    print(\"按日期对齐数据...\")\n",
    "    merged_df = pd.merge(etf_df, fut_df, on=\"date\", how=\"inner\", suffixes=(\"_etf\", \"_fut\"))\n",
    "\n",
    "    print(f\"合并后数据维度: {merged_df.shape}\")\n",
    "    merged_df.to_csv(MERGED_PATH, index=False, encoding='utf-8-sig')\n",
    "    print(f\"合并数据保存成功：{MERGED_PATH}\")\n",
    "\n",
    "if __name__ == \"__main__\":\n",
    "    merge_data()\n"
   ]
  }
 ],
 "metadata": {
  "kernelspec": {
   "display_name": "py3.9",
   "language": "python",
   "name": "python3"
  },
  "language_info": {
   "codemirror_mode": {
    "name": "ipython",
    "version": 3
   },
   "file_extension": ".py",
   "mimetype": "text/x-python",
   "name": "python",
   "nbconvert_exporter": "python",
   "pygments_lexer": "ipython3",
   "version": "3.9.21"
  }
 },
 "nbformat": 4,
 "nbformat_minor": 5
}
