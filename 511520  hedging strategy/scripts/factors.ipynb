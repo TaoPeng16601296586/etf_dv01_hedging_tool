{
 "cells": [
  {
   "cell_type": "code",
   "execution_count": 1,
   "id": "33e3ae88",
   "metadata": {},
   "outputs": [
    {
     "name": "stdout",
     "output_type": "stream",
     "text": [
      "合并数据保存成功：C:\\Users\\l\\OneDrive\\桌面\\东方财富\\511520  hedging strategy\\data\\etf_futures_interest_merged.csv\n"
     ]
    }
   ],
   "source": [
    "import pandas as pd\n",
    "from pathlib import Path\n",
    "\n",
    "def merge_etf_futures_interest():\n",
    "    # 路径\n",
    "    base_dir = Path(r\"C:\\Users\\l\\OneDrive\\桌面\\东方财富\\511520  hedging strategy\\data\")\n",
    "    etf_fut_path = base_dir / \"etf_futures_merged.csv\"\n",
    "    interest_path = base_dir / \"interest factors.xlsx\"\n",
    "\n",
    "    # 读取数据\n",
    "    df_etf_fut = pd.read_csv(etf_fut_path, parse_dates=[\"date\"])\n",
    "    df_interest = pd.read_excel(interest_path, parse_dates=[\"date\"])\n",
    "\n",
    "    # 检查利率表的日期列名，如果不是\"date\"，请改为实际列名\n",
    "    if \"date\" not in df_interest.columns:\n",
    "        # 假设第一列为日期\n",
    "        df_interest.rename(columns={df_interest.columns[0]: \"date\"}, inplace=True)\n",
    "\n",
    "    # 合并（内连接，只保留两边都有的日期）\n",
    "    merged = pd.merge(df_etf_fut, df_interest, on=\"date\", how=\"inner\")\n",
    "\n",
    "    # 保存结果\n",
    "    merged_path = base_dir / \"etf_futures_interest_merged.csv\"\n",
    "    merged.to_csv(merged_path, index=False, encoding=\"utf-8-sig\")\n",
    "    print(f\"合并数据保存成功：{merged_path}\")\n",
    "\n",
    "    return merged\n",
    "\n",
    "# 调用函数\n",
    "if __name__ == \"__main__\":\n",
    "    merge_etf_futures_interest()"
   ]
  }
 ],
 "metadata": {
  "kernelspec": {
   "display_name": "py3.9",
   "language": "python",
   "name": "python3"
  },
  "language_info": {
   "codemirror_mode": {
    "name": "ipython",
    "version": 3
   },
   "file_extension": ".py",
   "mimetype": "text/x-python",
   "name": "python",
   "nbconvert_exporter": "python",
   "pygments_lexer": "ipython3",
   "version": "3.9.21"
  }
 },
 "nbformat": 4,
 "nbformat_minor": 5
}
