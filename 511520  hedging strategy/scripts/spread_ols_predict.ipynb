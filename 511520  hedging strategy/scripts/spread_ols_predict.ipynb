{
 "cells": [
  {
   "cell_type": "code",
   "execution_count": 5,
   "id": "b3015c61",
   "metadata": {},
   "outputs": [
    {
     "name": "stdout",
     "output_type": "stream",
     "text": [
      "window=60, max_vars=2, pred_horizon=1，方向准确率：42.11%\n",
      "window=60, max_vars=2, pred_horizon=3，方向准确率：48.65%\n",
      "window=60, max_vars=2, pred_horizon=5，方向准确率：47.22%\n",
      "window=60, max_vars=3, pred_horizon=1，方向准确率：43.42%\n",
      "window=60, max_vars=3, pred_horizon=3，方向准确率：51.35%\n",
      "window=60, max_vars=3, pred_horizon=5，方向准确率：50.00%\n",
      "window=60, max_vars=4, pred_horizon=1，方向准确率：40.79%\n",
      "window=60, max_vars=4, pred_horizon=3，方向准确率：58.11%\n",
      "window=60, max_vars=4, pred_horizon=5，方向准确率：45.83%\n"
     ]
    },
    {
     "name": "stderr",
     "output_type": "stream",
     "text": [
      "e:\\Anaconda\\envs\\py3.9\\lib\\site-packages\\sklearn\\linear_model\\_least_angle.py:723: ConvergenceWarning: Regressors in active set degenerate. Dropping a regressor, after 4 iterations, i.e. alpha=2.662e-04, with an active set of 4 regressors, and the smallest cholesky pivot element being 1.863e-09. Reduce max_iter or increase eps parameters.\n",
      "  warnings.warn(\n",
      "e:\\Anaconda\\envs\\py3.9\\lib\\site-packages\\sklearn\\linear_model\\_least_angle.py:723: ConvergenceWarning: Regressors in active set degenerate. Dropping a regressor, after 4 iterations, i.e. alpha=4.242e-04, with an active set of 4 regressors, and the smallest cholesky pivot element being 2.220e-16. Reduce max_iter or increase eps parameters.\n",
      "  warnings.warn(\n",
      "e:\\Anaconda\\envs\\py3.9\\lib\\site-packages\\sklearn\\linear_model\\_least_angle.py:723: ConvergenceWarning: Regressors in active set degenerate. Dropping a regressor, after 4 iterations, i.e. alpha=1.150e-03, with an active set of 4 regressors, and the smallest cholesky pivot element being 2.220e-16. Reduce max_iter or increase eps parameters.\n",
      "  warnings.warn(\n",
      "e:\\Anaconda\\envs\\py3.9\\lib\\site-packages\\sklearn\\linear_model\\_least_angle.py:723: ConvergenceWarning: Regressors in active set degenerate. Dropping a regressor, after 4 iterations, i.e. alpha=3.467e-04, with an active set of 4 regressors, and the smallest cholesky pivot element being 2.220e-16. Reduce max_iter or increase eps parameters.\n",
      "  warnings.warn(\n"
     ]
    },
    {
     "name": "stdout",
     "output_type": "stream",
     "text": [
      "window=60, max_vars=5, pred_horizon=1，方向准确率：43.42%\n",
      "window=60, max_vars=5, pred_horizon=3，方向准确率：50.00%\n"
     ]
    },
    {
     "name": "stderr",
     "output_type": "stream",
     "text": [
      "e:\\Anaconda\\envs\\py3.9\\lib\\site-packages\\sklearn\\linear_model\\_least_angle.py:723: ConvergenceWarning: Regressors in active set degenerate. Dropping a regressor, after 4 iterations, i.e. alpha=1.114e-03, with an active set of 4 regressors, and the smallest cholesky pivot element being 1.054e-08. Reduce max_iter or increase eps parameters.\n",
      "  warnings.warn(\n"
     ]
    },
    {
     "name": "stdout",
     "output_type": "stream",
     "text": [
      "window=60, max_vars=5, pred_horizon=5，方向准确率：44.44%\n",
      "window=90, max_vars=2, pred_horizon=1，方向准确率：34.78%\n",
      "window=90, max_vars=2, pred_horizon=3，方向准确率：38.64%\n",
      "window=90, max_vars=2, pred_horizon=5，方向准确率：28.57%\n",
      "window=90, max_vars=3, pred_horizon=1，方向准确率：43.48%\n",
      "window=90, max_vars=3, pred_horizon=3，方向准确率：40.91%\n",
      "window=90, max_vars=3, pred_horizon=5，方向准确率：33.33%\n",
      "window=90, max_vars=4, pred_horizon=1，方向准确率：47.83%\n",
      "window=90, max_vars=4, pred_horizon=3，方向准确率：38.64%\n",
      "window=90, max_vars=4, pred_horizon=5，方向准确率：40.48%\n",
      "window=90, max_vars=5, pred_horizon=1，方向准确率：45.65%\n",
      "window=90, max_vars=5, pred_horizon=3，方向准确率：40.91%\n",
      "window=90, max_vars=5, pred_horizon=5，方向准确率：47.62%\n",
      "window=100, max_vars=2, pred_horizon=1，方向准确率：33.33%\n",
      "window=100, max_vars=2, pred_horizon=3，方向准确率：35.29%\n",
      "window=100, max_vars=2, pred_horizon=5，方向准确率：25.00%\n",
      "window=100, max_vars=3, pred_horizon=1，方向准确率：36.11%\n",
      "window=100, max_vars=3, pred_horizon=3，方向准确率：38.24%\n",
      "window=100, max_vars=3, pred_horizon=5，方向准确率：28.12%\n",
      "window=100, max_vars=4, pred_horizon=1，方向准确率：36.11%\n",
      "window=100, max_vars=4, pred_horizon=3，方向准确率：35.29%\n",
      "window=100, max_vars=4, pred_horizon=5，方向准确率：31.25%\n",
      "window=100, max_vars=5, pred_horizon=1，方向准确率：36.11%\n",
      "window=100, max_vars=5, pred_horizon=3，方向准确率：38.24%\n",
      "window=100, max_vars=5, pred_horizon=5，方向准确率：34.38%\n",
      "window=120, max_vars=2, pred_horizon=1，方向准确率：18.75%\n",
      "window=120, max_vars=2, pred_horizon=3，方向准确率：28.57%\n",
      "window=120, max_vars=2, pred_horizon=5，方向准确率：8.33%\n",
      "window=120, max_vars=3, pred_horizon=1，方向准确率：18.75%\n",
      "window=120, max_vars=3, pred_horizon=3，方向准确率：28.57%\n",
      "window=120, max_vars=3, pred_horizon=5，方向准确率：8.33%\n",
      "window=120, max_vars=4, pred_horizon=1，方向准确率：18.75%\n",
      "window=120, max_vars=4, pred_horizon=3，方向准确率：28.57%\n",
      "window=120, max_vars=4, pred_horizon=5，方向准确率：8.33%\n",
      "window=120, max_vars=5, pred_horizon=1，方向准确率：18.75%\n",
      "window=120, max_vars=5, pred_horizon=3，方向准确率：28.57%\n",
      "window=120, max_vars=5, pred_horizon=5，方向准确率：8.33%\n"
     ]
    }
   ],
   "source": [
    "import pandas as pd\n",
    "import numpy as np\n",
    "from sklearn.linear_model import Lars\n",
    "from itertools import combinations\n",
    "import statsmodels.api as sm\n",
    "\n",
    "def lars_bayes_rolling_predict(\n",
    "    df, \n",
    "    factors, \n",
    "    target, \n",
    "    window=60, \n",
    "    pred_horizon=3, \n",
    "    max_vars=5\n",
    "):\n",
    "    df = df.copy()\n",
    "    preds = []\n",
    "    dates = []\n",
    "    for end in range(window, len(df)-pred_horizon):\n",
    "        start = end - window\n",
    "        X_win = df.iloc[start:end][factors]\n",
    "        y_win = df.iloc[start:end][target]\n",
    "        # LARS变量筛选\n",
    "        lars = Lars(n_nonzero_coefs=max_vars)\n",
    "        lars.fit(X_win, y_win)\n",
    "        idx = np.where(lars.coef_ != 0)[0]\n",
    "        selected_factors = [factors[i] for i in idx] if len(idx) > 0 else []\n",
    "        # 备选模型\n",
    "        models = []\n",
    "        if len(selected_factors) > 0:\n",
    "            for k in range(1, min(len(selected_factors), max_vars)+1):\n",
    "                for comb in combinations(selected_factors, k):\n",
    "                    X_sub = X_win[list(comb)]\n",
    "                    X_sub = sm.add_constant(X_sub)\n",
    "                    model = sm.OLS(y_win, X_sub).fit()\n",
    "                    if model.rsquared_adj > 0:\n",
    "                        models.append((comb, model))\n",
    "        if not models:\n",
    "            preds.append(np.nan)\n",
    "            dates.append(df.iloc[end]['date'])\n",
    "            continue\n",
    "        bics = np.array([m[1].bic for m in models])\n",
    "        dBIC = bics - bics.min()\n",
    "        weights = np.exp(-dBIC/2)\n",
    "        weights = weights / weights.sum()\n",
    "        X_pred_subs = []\n",
    "        for (comb, model) in models:\n",
    "            X_pred_sub = pd.DataFrame({col: [df.iloc[end][col]] for col in comb})\n",
    "            X_pred_sub = sm.add_constant(X_pred_sub, has_constant='add')\n",
    "            missing_cols = set(model.model.exog_names) - set(X_pred_sub.columns)\n",
    "            for col in missing_cols:\n",
    "                X_pred_sub[col] = 1 if col == 'const' else 0\n",
    "            X_pred_sub = X_pred_sub[model.model.exog_names]\n",
    "            y_hat = model.predict(X_pred_sub).iloc[0]\n",
    "            X_pred_subs.append(np.sign(y_hat) * abs(y_hat))\n",
    "        y_bayes = np.dot(weights, X_pred_subs)\n",
    "        preds.append(y_bayes)\n",
    "        dates.append(df.iloc[end]['date'])\n",
    "    pred_df = pd.DataFrame({\"date\": dates, f\"lars_bayes_pred_{pred_horizon}d\": preds})\n",
    "    df = df.merge(pred_df, on=\"date\", how=\"left\")\n",
    "    return df\n",
    "\n",
    "def calc_direction_accuracy(df, pred_col, true_col):\n",
    "    valid = df[[pred_col, true_col]].dropna()\n",
    "    acc = (np.sign(valid[pred_col]) == np.sign(valid[true_col])).mean()\n",
    "    return acc\n",
    "\n",
    "if __name__ == \"__main__\":\n",
    "    df = pd.read_csv(r\"C:\\Users\\l\\OneDrive\\桌面\\东方财富\\511520  hedging strategy\\data\\etf_futures_interest_factors.csv\", parse_dates=[\"date\"])\n",
    "    df[\"spread_change_5d\"] = df[\"spread\"].shift(-5) - df[\"spread\"]\n",
    "      # 选用你构建的因子\n",
    "    # 选择用于预测价差变化的特征因子。除原有曲线、资金面等因子外，加入利率相对3%名义票息的偏离、\n",
    "    # 新老券利差、税收利差、IRS swap spread 以及基差因子。\n",
    "    factors = [\n",
    "        \"factor_10y_gov\", \"factor_1y_gov\", \"factor_30y_gov\", \"factor_5y_gov\",\n",
    "        \"factor_30y_5y_slope\", \"factor_10y_1y_slope\", \"factor_30y_10y_slope\",\n",
    "        \"factor_10y_policy\", \"factor_policy_spread\", \"factor_shibor3m\",\n",
    "        \"factor_r007\", \"factor_fr007\", \"factor_shibor3m_r007_spread\",\n",
    "        \"factor_fr007_shibor3m_spread\", \"factor_curve_curvature\",\n",
    "        # 新增因子：相对票息偏离、新老券利差、税收利差、IRS利差与基差\n",
    "        \"factor_rel_10y_coupon\", \"factor_rel_30y_coupon\",\n",
    "        \"factor_30y_10y_spread\", \"factor_30y_5y_spread\", \"factor_10y_5y_spread\",\n",
    "        \"factor_tax_spread\", \"factor_swap_spread\", \"factor_basis\"\n",
    "    ]\n",
    "    # 循环调参\n",
    "    for window in [60, 90, 100, 120]:\n",
    "        for max_vars in [2, 3, 4, 5]:\n",
    "            for pred_horizon in [1, 3, 5]:\n",
    "                df[\"spread_change_tmp\"] = df[\"spread\"].shift(-pred_horizon) - df[\"spread\"]\n",
    "                df_pred = lars_bayes_rolling_predict(df, factors, \"spread_change_tmp\", window=window, pred_horizon=pred_horizon, max_vars=max_vars)\n",
    "                acc = calc_direction_accuracy(df_pred, f\"lars_bayes_pred_{pred_horizon}d\", \"spread_change_tmp\")\n",
    "                print(f\"window={window}, max_vars={max_vars}, pred_horizon={pred_horizon}，方向准确率：{acc:.2%}\")"
   ]
  },
  {
   "cell_type": "code",
   "execution_count": 8,
   "id": "f745d084",
   "metadata": {},
   "outputs": [
    {
     "name": "stdout",
     "output_type": "stream",
     "text": [
      "window=60, max_vars=2, pred_horizon=1，方向准确率：52.31%\n",
      "window=60, max_vars=2, pred_horizon=3，方向准确率：49.32%\n",
      "window=60, max_vars=2, pred_horizon=5，方向准确率：47.22%\n",
      "window=60, max_vars=2, pred_horizon=7，方向准确率：58.57%\n",
      "window=60, max_vars=3, pred_horizon=1，方向准确率：55.26%\n",
      "window=60, max_vars=3, pred_horizon=3，方向准确率：43.84%\n",
      "window=60, max_vars=3, pred_horizon=5，方向准确率：47.22%\n",
      "window=60, max_vars=3, pred_horizon=7，方向准确率：62.86%\n"
     ]
    },
    {
     "name": "stderr",
     "output_type": "stream",
     "text": [
      "e:\\Anaconda\\envs\\py3.9\\lib\\site-packages\\sklearn\\linear_model\\_least_angle.py:723: ConvergenceWarning: Regressors in active set degenerate. Dropping a regressor, after 3 iterations, i.e. alpha=1.117e-03, with an active set of 3 regressors, and the smallest cholesky pivot element being 5.053e-08. Reduce max_iter or increase eps parameters.\n",
      "  warnings.warn(\n"
     ]
    },
    {
     "name": "stdout",
     "output_type": "stream",
     "text": [
      "window=60, max_vars=4, pred_horizon=1，方向准确率：52.63%\n",
      "window=60, max_vars=4, pred_horizon=3，方向准确率：42.47%\n"
     ]
    },
    {
     "name": "stderr",
     "output_type": "stream",
     "text": [
      "e:\\Anaconda\\envs\\py3.9\\lib\\site-packages\\sklearn\\linear_model\\_least_angle.py:723: ConvergenceWarning: Regressors in active set degenerate. Dropping a regressor, after 3 iterations, i.e. alpha=3.875e-03, with an active set of 3 regressors, and the smallest cholesky pivot element being 2.980e-08. Reduce max_iter or increase eps parameters.\n",
      "  warnings.warn(\n"
     ]
    },
    {
     "name": "stdout",
     "output_type": "stream",
     "text": [
      "window=60, max_vars=4, pred_horizon=5，方向准确率：45.83%\n"
     ]
    },
    {
     "name": "stderr",
     "output_type": "stream",
     "text": [
      "e:\\Anaconda\\envs\\py3.9\\lib\\site-packages\\sklearn\\linear_model\\_least_angle.py:723: ConvergenceWarning: Regressors in active set degenerate. Dropping a regressor, after 3 iterations, i.e. alpha=9.331e-03, with an active set of 3 regressors, and the smallest cholesky pivot element being 5.960e-08. Reduce max_iter or increase eps parameters.\n",
      "  warnings.warn(\n"
     ]
    },
    {
     "name": "stdout",
     "output_type": "stream",
     "text": [
      "window=60, max_vars=4, pred_horizon=7，方向准确率：64.29%\n"
     ]
    },
    {
     "name": "stderr",
     "output_type": "stream",
     "text": [
      "e:\\Anaconda\\envs\\py3.9\\lib\\site-packages\\sklearn\\linear_model\\_least_angle.py:723: ConvergenceWarning: Regressors in active set degenerate. Dropping a regressor, after 3 iterations, i.e. alpha=1.117e-03, with an active set of 3 regressors, and the smallest cholesky pivot element being 5.053e-08. Reduce max_iter or increase eps parameters.\n",
      "  warnings.warn(\n"
     ]
    },
    {
     "name": "stdout",
     "output_type": "stream",
     "text": [
      "window=60, max_vars=5, pred_horizon=1，方向准确率：48.68%\n"
     ]
    },
    {
     "name": "stderr",
     "output_type": "stream",
     "text": [
      "e:\\Anaconda\\envs\\py3.9\\lib\\site-packages\\sklearn\\linear_model\\_least_angle.py:723: ConvergenceWarning: Regressors in active set degenerate. Dropping a regressor, after 4 iterations, i.e. alpha=1.897e-03, with an active set of 4 regressors, and the smallest cholesky pivot element being 2.107e-08. Reduce max_iter or increase eps parameters.\n",
      "  warnings.warn(\n",
      "e:\\Anaconda\\envs\\py3.9\\lib\\site-packages\\sklearn\\linear_model\\_least_angle.py:723: ConvergenceWarning: Regressors in active set degenerate. Dropping a regressor, after 4 iterations, i.e. alpha=2.098e-03, with an active set of 4 regressors, and the smallest cholesky pivot element being 2.980e-08. Reduce max_iter or increase eps parameters.\n",
      "  warnings.warn(\n"
     ]
    },
    {
     "name": "stdout",
     "output_type": "stream",
     "text": [
      "window=60, max_vars=5, pred_horizon=3，方向准确率：42.47%\n"
     ]
    },
    {
     "name": "stderr",
     "output_type": "stream",
     "text": [
      "e:\\Anaconda\\envs\\py3.9\\lib\\site-packages\\sklearn\\linear_model\\_least_angle.py:723: ConvergenceWarning: Regressors in active set degenerate. Dropping a regressor, after 4 iterations, i.e. alpha=2.958e-03, with an active set of 4 regressors, and the smallest cholesky pivot element being 1.825e-08. Reduce max_iter or increase eps parameters.\n",
      "  warnings.warn(\n",
      "e:\\Anaconda\\envs\\py3.9\\lib\\site-packages\\sklearn\\linear_model\\_least_angle.py:723: ConvergenceWarning: Regressors in active set degenerate. Dropping a regressor, after 4 iterations, i.e. alpha=2.922e-03, with an active set of 4 regressors, and the smallest cholesky pivot element being 1.825e-08. Reduce max_iter or increase eps parameters.\n",
      "  warnings.warn(\n",
      "e:\\Anaconda\\envs\\py3.9\\lib\\site-packages\\sklearn\\linear_model\\_least_angle.py:723: ConvergenceWarning: Regressors in active set degenerate. Dropping a regressor, after 4 iterations, i.e. alpha=2.949e-03, with an active set of 4 regressors, and the smallest cholesky pivot element being 6.322e-08. Reduce max_iter or increase eps parameters.\n",
      "  warnings.warn(\n",
      "e:\\Anaconda\\envs\\py3.9\\lib\\site-packages\\sklearn\\linear_model\\_least_angle.py:723: ConvergenceWarning: Regressors in active set degenerate. Dropping a regressor, after 4 iterations, i.e. alpha=2.405e-03, with an active set of 4 regressors, and the smallest cholesky pivot element being 2.220e-16. Reduce max_iter or increase eps parameters.\n",
      "  warnings.warn(\n",
      "e:\\Anaconda\\envs\\py3.9\\lib\\site-packages\\sklearn\\linear_model\\_least_angle.py:723: ConvergenceWarning: Regressors in active set degenerate. Dropping a regressor, after 3 iterations, i.e. alpha=3.875e-03, with an active set of 3 regressors, and the smallest cholesky pivot element being 2.980e-08. Reduce max_iter or increase eps parameters.\n",
      "  warnings.warn(\n",
      "e:\\Anaconda\\envs\\py3.9\\lib\\site-packages\\sklearn\\linear_model\\_least_angle.py:723: ConvergenceWarning: Regressors in active set degenerate. Dropping a regressor, after 4 iterations, i.e. alpha=2.686e-03, with an active set of 4 regressors, and the smallest cholesky pivot element being 2.980e-08. Reduce max_iter or increase eps parameters.\n",
      "  warnings.warn(\n",
      "e:\\Anaconda\\envs\\py3.9\\lib\\site-packages\\sklearn\\linear_model\\_least_angle.py:723: ConvergenceWarning: Regressors in active set degenerate. Dropping a regressor, after 4 iterations, i.e. alpha=3.312e-03, with an active set of 4 regressors, and the smallest cholesky pivot element being 4.712e-08. Reduce max_iter or increase eps parameters.\n",
      "  warnings.warn(\n",
      "e:\\Anaconda\\envs\\py3.9\\lib\\site-packages\\sklearn\\linear_model\\_least_angle.py:723: ConvergenceWarning: Regressors in active set degenerate. Dropping a regressor, after 4 iterations, i.e. alpha=1.213e-03, with an active set of 3 regressors, and the smallest cholesky pivot element being 2.356e-08. Reduce max_iter or increase eps parameters.\n",
      "  warnings.warn(\n",
      "e:\\Anaconda\\envs\\py3.9\\lib\\site-packages\\sklearn\\linear_model\\_least_angle.py:723: ConvergenceWarning: Regressors in active set degenerate. Dropping a regressor, after 4 iterations, i.e. alpha=9.728e-04, with an active set of 3 regressors, and the smallest cholesky pivot element being 2.356e-08. Reduce max_iter or increase eps parameters.\n",
      "  warnings.warn(\n",
      "e:\\Anaconda\\envs\\py3.9\\lib\\site-packages\\sklearn\\linear_model\\_least_angle.py:723: ConvergenceWarning: Regressors in active set degenerate. Dropping a regressor, after 4 iterations, i.e. alpha=1.324e-03, with an active set of 3 regressors, and the smallest cholesky pivot element being 4.215e-08. Reduce max_iter or increase eps parameters.\n",
      "  warnings.warn(\n",
      "e:\\Anaconda\\envs\\py3.9\\lib\\site-packages\\sklearn\\linear_model\\_least_angle.py:723: ConvergenceWarning: Regressors in active set degenerate. Dropping a regressor, after 4 iterations, i.e. alpha=9.574e-04, with an active set of 3 regressors, and the smallest cholesky pivot element being 4.712e-08. Reduce max_iter or increase eps parameters.\n",
      "  warnings.warn(\n",
      "e:\\Anaconda\\envs\\py3.9\\lib\\site-packages\\sklearn\\linear_model\\_least_angle.py:723: ConvergenceWarning: Regressors in active set degenerate. Dropping a regressor, after 4 iterations, i.e. alpha=7.231e-04, with an active set of 3 regressors, and the smallest cholesky pivot element being 3.799e-08. Reduce max_iter or increase eps parameters.\n",
      "  warnings.warn(\n",
      "e:\\Anaconda\\envs\\py3.9\\lib\\site-packages\\sklearn\\linear_model\\_least_angle.py:723: ConvergenceWarning: Regressors in active set degenerate. Dropping a regressor, after 4 iterations, i.e. alpha=8.513e-04, with an active set of 3 regressors, and the smallest cholesky pivot element being 4.081e-08. Reduce max_iter or increase eps parameters.\n",
      "  warnings.warn(\n",
      "e:\\Anaconda\\envs\\py3.9\\lib\\site-packages\\sklearn\\linear_model\\_least_angle.py:723: ConvergenceWarning: Regressors in active set degenerate. Dropping a regressor, after 4 iterations, i.e. alpha=1.055e-03, with an active set of 3 regressors, and the smallest cholesky pivot element being 1.666e-08. Reduce max_iter or increase eps parameters.\n",
      "  warnings.warn(\n"
     ]
    },
    {
     "name": "stdout",
     "output_type": "stream",
     "text": [
      "window=60, max_vars=5, pred_horizon=5，方向准确率：45.83%\n"
     ]
    },
    {
     "name": "stderr",
     "output_type": "stream",
     "text": [
      "e:\\Anaconda\\envs\\py3.9\\lib\\site-packages\\sklearn\\linear_model\\_least_angle.py:723: ConvergenceWarning: Regressors in active set degenerate. Dropping a regressor, after 4 iterations, i.e. alpha=2.013e-03, with an active set of 4 regressors, and the smallest cholesky pivot element being 2.220e-16. Reduce max_iter or increase eps parameters.\n",
      "  warnings.warn(\n",
      "e:\\Anaconda\\envs\\py3.9\\lib\\site-packages\\sklearn\\linear_model\\_least_angle.py:723: ConvergenceWarning: Regressors in active set degenerate. Dropping a regressor, after 3 iterations, i.e. alpha=9.331e-03, with an active set of 3 regressors, and the smallest cholesky pivot element being 5.960e-08. Reduce max_iter or increase eps parameters.\n",
      "  warnings.warn(\n",
      "e:\\Anaconda\\envs\\py3.9\\lib\\site-packages\\sklearn\\linear_model\\_least_angle.py:723: ConvergenceWarning: Regressors in active set degenerate. Dropping a regressor, after 4 iterations, i.e. alpha=8.006e-03, with an active set of 3 regressors, and the smallest cholesky pivot element being 2.107e-08. Reduce max_iter or increase eps parameters.\n",
      "  warnings.warn(\n",
      "e:\\Anaconda\\envs\\py3.9\\lib\\site-packages\\sklearn\\linear_model\\_least_angle.py:723: ConvergenceWarning: Regressors in active set degenerate. Dropping a regressor, after 4 iterations, i.e. alpha=5.109e-03, with an active set of 3 regressors, and the smallest cholesky pivot element being 5.268e-08. Reduce max_iter or increase eps parameters.\n",
      "  warnings.warn(\n",
      "e:\\Anaconda\\envs\\py3.9\\lib\\site-packages\\sklearn\\linear_model\\_least_angle.py:723: ConvergenceWarning: Regressors in active set degenerate. Dropping a regressor, after 4 iterations, i.e. alpha=1.470e-03, with an active set of 4 regressors, and the smallest cholesky pivot element being 3.495e-08. Reduce max_iter or increase eps parameters.\n",
      "  warnings.warn(\n",
      "e:\\Anaconda\\envs\\py3.9\\lib\\site-packages\\sklearn\\linear_model\\_least_angle.py:723: ConvergenceWarning: Regressors in active set degenerate. Dropping a regressor, after 4 iterations, i.e. alpha=1.255e-03, with an active set of 4 regressors, and the smallest cholesky pivot element being 3.495e-08. Reduce max_iter or increase eps parameters.\n",
      "  warnings.warn(\n",
      "e:\\Anaconda\\envs\\py3.9\\lib\\site-packages\\sklearn\\linear_model\\_least_angle.py:723: ConvergenceWarning: Regressors in active set degenerate. Dropping a regressor, after 4 iterations, i.e. alpha=1.452e-03, with an active set of 3 regressors, and the smallest cholesky pivot element being 2.356e-08. Reduce max_iter or increase eps parameters.\n",
      "  warnings.warn(\n",
      "e:\\Anaconda\\envs\\py3.9\\lib\\site-packages\\sklearn\\linear_model\\_least_angle.py:723: ConvergenceWarning: Regressors in active set degenerate. Dropping a regressor, after 4 iterations, i.e. alpha=1.380e-03, with an active set of 3 regressors, and the smallest cholesky pivot element being 4.215e-08. Reduce max_iter or increase eps parameters.\n",
      "  warnings.warn(\n",
      "e:\\Anaconda\\envs\\py3.9\\lib\\site-packages\\sklearn\\linear_model\\_least_angle.py:723: ConvergenceWarning: Regressors in active set degenerate. Dropping a regressor, after 4 iterations, i.e. alpha=4.665e-04, with an active set of 4 regressors, and the smallest cholesky pivot element being 1.825e-08. Reduce max_iter or increase eps parameters.\n",
      "  warnings.warn(\n",
      "e:\\Anaconda\\envs\\py3.9\\lib\\site-packages\\sklearn\\linear_model\\_least_angle.py:723: ConvergenceWarning: Regressors in active set degenerate. Dropping a regressor, after 4 iterations, i.e. alpha=1.294e-03, with an active set of 3 regressors, and the smallest cholesky pivot element being 4.081e-08. Reduce max_iter or increase eps parameters.\n",
      "  warnings.warn(\n",
      "e:\\Anaconda\\envs\\py3.9\\lib\\site-packages\\sklearn\\linear_model\\_least_angle.py:723: ConvergenceWarning: Regressors in active set degenerate. Dropping a regressor, after 4 iterations, i.e. alpha=1.924e-03, with an active set of 3 regressors, and the smallest cholesky pivot element being 1.666e-08. Reduce max_iter or increase eps parameters.\n",
      "  warnings.warn(\n"
     ]
    },
    {
     "name": "stdout",
     "output_type": "stream",
     "text": [
      "window=60, max_vars=5, pred_horizon=7，方向准确率：67.14%\n",
      "window=90, max_vars=2, pred_horizon=1，方向准确率：44.12%\n",
      "window=90, max_vars=2, pred_horizon=3，方向准确率：50.00%\n",
      "window=90, max_vars=2, pred_horizon=5，方向准确率：71.43%\n",
      "window=90, max_vars=2, pred_horizon=7，方向准确率：67.50%\n",
      "window=90, max_vars=3, pred_horizon=1，方向准确率：45.45%\n",
      "window=90, max_vars=3, pred_horizon=3，方向准确率：40.91%\n",
      "window=90, max_vars=3, pred_horizon=5，方向准确率：71.43%\n",
      "window=90, max_vars=3, pred_horizon=7，方向准确率：60.00%\n",
      "window=90, max_vars=4, pred_horizon=1，方向准确率：46.67%\n",
      "window=90, max_vars=4, pred_horizon=3，方向准确率：38.64%\n"
     ]
    },
    {
     "name": "stderr",
     "output_type": "stream",
     "text": [
      "e:\\Anaconda\\envs\\py3.9\\lib\\site-packages\\sklearn\\linear_model\\_least_angle.py:723: ConvergenceWarning: Regressors in active set degenerate. Dropping a regressor, after 3 iterations, i.e. alpha=2.626e-03, with an active set of 3 regressors, and the smallest cholesky pivot element being 9.424e-08. Reduce max_iter or increase eps parameters.\n",
      "  warnings.warn(\n"
     ]
    },
    {
     "name": "stdout",
     "output_type": "stream",
     "text": [
      "window=90, max_vars=4, pred_horizon=5，方向准确率：47.62%\n"
     ]
    },
    {
     "name": "stderr",
     "output_type": "stream",
     "text": [
      "e:\\Anaconda\\envs\\py3.9\\lib\\site-packages\\sklearn\\linear_model\\_least_angle.py:723: ConvergenceWarning: Regressors in active set degenerate. Dropping a regressor, after 3 iterations, i.e. alpha=6.679e-03, with an active set of 3 regressors, and the smallest cholesky pivot element being 5.867e-08. Reduce max_iter or increase eps parameters.\n",
      "  warnings.warn(\n",
      "e:\\Anaconda\\envs\\py3.9\\lib\\site-packages\\sklearn\\linear_model\\_least_angle.py:723: ConvergenceWarning: Regressors in active set degenerate. Dropping a regressor, after 3 iterations, i.e. alpha=5.074e-03, with an active set of 3 regressors, and the smallest cholesky pivot element being 4.215e-08. Reduce max_iter or increase eps parameters.\n",
      "  warnings.warn(\n"
     ]
    },
    {
     "name": "stdout",
     "output_type": "stream",
     "text": [
      "window=90, max_vars=4, pred_horizon=7，方向准确率：72.50%\n",
      "window=90, max_vars=5, pred_horizon=1，方向准确率：39.13%\n"
     ]
    },
    {
     "name": "stderr",
     "output_type": "stream",
     "text": [
      "e:\\Anaconda\\envs\\py3.9\\lib\\site-packages\\sklearn\\linear_model\\_least_angle.py:723: ConvergenceWarning: Regressors in active set degenerate. Dropping a regressor, after 4 iterations, i.e. alpha=2.251e-03, with an active set of 4 regressors, and the smallest cholesky pivot element being 2.220e-16. Reduce max_iter or increase eps parameters.\n",
      "  warnings.warn(\n",
      "e:\\Anaconda\\envs\\py3.9\\lib\\site-packages\\sklearn\\linear_model\\_least_angle.py:723: ConvergenceWarning: Regressors in active set degenerate. Dropping a regressor, after 4 iterations, i.e. alpha=2.216e-03, with an active set of 4 regressors, and the smallest cholesky pivot element being 2.220e-16. Reduce max_iter or increase eps parameters.\n",
      "  warnings.warn(\n",
      "e:\\Anaconda\\envs\\py3.9\\lib\\site-packages\\sklearn\\linear_model\\_least_angle.py:723: ConvergenceWarning: Regressors in active set degenerate. Dropping a regressor, after 4 iterations, i.e. alpha=2.806e-03, with an active set of 3 regressors, and the smallest cholesky pivot element being 3.650e-08. Reduce max_iter or increase eps parameters.\n",
      "  warnings.warn(\n"
     ]
    },
    {
     "name": "stdout",
     "output_type": "stream",
     "text": [
      "window=90, max_vars=5, pred_horizon=3，方向准确率：43.18%\n"
     ]
    },
    {
     "name": "stderr",
     "output_type": "stream",
     "text": [
      "e:\\Anaconda\\envs\\py3.9\\lib\\site-packages\\sklearn\\linear_model\\_least_angle.py:723: ConvergenceWarning: Regressors in active set degenerate. Dropping a regressor, after 3 iterations, i.e. alpha=2.626e-03, with an active set of 3 regressors, and the smallest cholesky pivot element being 9.424e-08. Reduce max_iter or increase eps parameters.\n",
      "  warnings.warn(\n",
      "e:\\Anaconda\\envs\\py3.9\\lib\\site-packages\\sklearn\\linear_model\\_least_angle.py:723: ConvergenceWarning: Regressors in active set degenerate. Dropping a regressor, after 4 iterations, i.e. alpha=2.419e-03, with an active set of 4 regressors, and the smallest cholesky pivot element being 5.960e-08. Reduce max_iter or increase eps parameters.\n",
      "  warnings.warn(\n",
      "e:\\Anaconda\\envs\\py3.9\\lib\\site-packages\\sklearn\\linear_model\\_least_angle.py:723: ConvergenceWarning: Regressors in active set degenerate. Dropping a regressor, after 4 iterations, i.e. alpha=2.302e-03, with an active set of 4 regressors, and the smallest cholesky pivot element being 5.960e-08. Reduce max_iter or increase eps parameters.\n",
      "  warnings.warn(\n",
      "e:\\Anaconda\\envs\\py3.9\\lib\\site-packages\\sklearn\\linear_model\\_least_angle.py:723: ConvergenceWarning: Regressors in active set degenerate. Dropping a regressor, after 4 iterations, i.e. alpha=2.564e-03, with an active set of 4 regressors, and the smallest cholesky pivot element being 2.980e-08. Reduce max_iter or increase eps parameters.\n",
      "  warnings.warn(\n",
      "e:\\Anaconda\\envs\\py3.9\\lib\\site-packages\\sklearn\\linear_model\\_least_angle.py:723: ConvergenceWarning: Regressors in active set degenerate. Dropping a regressor, after 4 iterations, i.e. alpha=2.557e-03, with an active set of 4 regressors, and the smallest cholesky pivot element being 2.980e-08. Reduce max_iter or increase eps parameters.\n",
      "  warnings.warn(\n",
      "e:\\Anaconda\\envs\\py3.9\\lib\\site-packages\\sklearn\\linear_model\\_least_angle.py:723: ConvergenceWarning: Regressors in active set degenerate. Dropping a regressor, after 4 iterations, i.e. alpha=3.193e-03, with an active set of 3 regressors, and the smallest cholesky pivot element being 2.581e-08. Reduce max_iter or increase eps parameters.\n",
      "  warnings.warn(\n",
      "e:\\Anaconda\\envs\\py3.9\\lib\\site-packages\\sklearn\\linear_model\\_least_angle.py:723: ConvergenceWarning: Regressors in active set degenerate. Dropping a regressor, after 4 iterations, i.e. alpha=4.905e-03, with an active set of 3 regressors, and the smallest cholesky pivot element being 5.960e-08. Reduce max_iter or increase eps parameters.\n",
      "  warnings.warn(\n",
      "e:\\Anaconda\\envs\\py3.9\\lib\\site-packages\\sklearn\\linear_model\\_least_angle.py:723: ConvergenceWarning: Regressors in active set degenerate. Dropping a regressor, after 4 iterations, i.e. alpha=4.990e-03, with an active set of 3 regressors, and the smallest cholesky pivot element being 4.712e-08. Reduce max_iter or increase eps parameters.\n",
      "  warnings.warn(\n",
      "e:\\Anaconda\\envs\\py3.9\\lib\\site-packages\\sklearn\\linear_model\\_least_angle.py:723: ConvergenceWarning: Regressors in active set degenerate. Dropping a regressor, after 4 iterations, i.e. alpha=5.082e-03, with an active set of 3 regressors, and the smallest cholesky pivot element being 2.107e-08. Reduce max_iter or increase eps parameters.\n",
      "  warnings.warn(\n",
      "e:\\Anaconda\\envs\\py3.9\\lib\\site-packages\\sklearn\\linear_model\\_least_angle.py:723: ConvergenceWarning: Regressors in active set degenerate. Dropping a regressor, after 4 iterations, i.e. alpha=5.076e-03, with an active set of 3 regressors, and the smallest cholesky pivot element being 3.650e-08. Reduce max_iter or increase eps parameters.\n",
      "  warnings.warn(\n",
      "e:\\Anaconda\\envs\\py3.9\\lib\\site-packages\\sklearn\\linear_model\\_least_angle.py:723: ConvergenceWarning: Regressors in active set degenerate. Dropping a regressor, after 4 iterations, i.e. alpha=4.942e-03, with an active set of 3 regressors, and the smallest cholesky pivot element being 5.576e-08. Reduce max_iter or increase eps parameters.\n",
      "  warnings.warn(\n",
      "e:\\Anaconda\\envs\\py3.9\\lib\\site-packages\\sklearn\\linear_model\\_least_angle.py:723: ConvergenceWarning: Regressors in active set degenerate. Dropping a regressor, after 4 iterations, i.e. alpha=2.421e-03, with an active set of 4 regressors, and the smallest cholesky pivot element being 8.941e-08. Reduce max_iter or increase eps parameters.\n",
      "  warnings.warn(\n"
     ]
    },
    {
     "name": "stdout",
     "output_type": "stream",
     "text": [
      "window=90, max_vars=5, pred_horizon=5，方向准确率：54.76%\n"
     ]
    },
    {
     "name": "stderr",
     "output_type": "stream",
     "text": [
      "e:\\Anaconda\\envs\\py3.9\\lib\\site-packages\\sklearn\\linear_model\\_least_angle.py:723: ConvergenceWarning: Regressors in active set degenerate. Dropping a regressor, after 4 iterations, i.e. alpha=5.978e-03, with an active set of 3 regressors, and the smallest cholesky pivot element being 7.300e-08. Reduce max_iter or increase eps parameters.\n",
      "  warnings.warn(\n",
      "e:\\Anaconda\\envs\\py3.9\\lib\\site-packages\\sklearn\\linear_model\\_least_angle.py:723: ConvergenceWarning: Regressors in active set degenerate. Dropping a regressor, after 4 iterations, i.e. alpha=9.120e-03, with an active set of 3 regressors, and the smallest cholesky pivot element being 8.429e-08. Reduce max_iter or increase eps parameters.\n",
      "  warnings.warn(\n",
      "e:\\Anaconda\\envs\\py3.9\\lib\\site-packages\\sklearn\\linear_model\\_least_angle.py:723: ConvergenceWarning: Regressors in active set degenerate. Dropping a regressor, after 4 iterations, i.e. alpha=3.176e-03, with an active set of 3 regressors, and the smallest cholesky pivot element being 3.332e-08. Reduce max_iter or increase eps parameters.\n",
      "  warnings.warn(\n",
      "e:\\Anaconda\\envs\\py3.9\\lib\\site-packages\\sklearn\\linear_model\\_least_angle.py:723: ConvergenceWarning: Regressors in active set degenerate. Dropping a regressor, after 3 iterations, i.e. alpha=6.679e-03, with an active set of 3 regressors, and the smallest cholesky pivot element being 5.867e-08. Reduce max_iter or increase eps parameters.\n",
      "  warnings.warn(\n",
      "e:\\Anaconda\\envs\\py3.9\\lib\\site-packages\\sklearn\\linear_model\\_least_angle.py:723: ConvergenceWarning: Regressors in active set degenerate. Dropping a regressor, after 3 iterations, i.e. alpha=5.074e-03, with an active set of 3 regressors, and the smallest cholesky pivot element being 4.215e-08. Reduce max_iter or increase eps parameters.\n",
      "  warnings.warn(\n"
     ]
    },
    {
     "name": "stdout",
     "output_type": "stream",
     "text": [
      "window=90, max_vars=5, pred_horizon=7，方向准确率：75.00%\n",
      "window=100, max_vars=2, pred_horizon=1，方向准确率：57.14%\n",
      "window=100, max_vars=2, pred_horizon=3，方向准确率：67.65%\n",
      "window=100, max_vars=2, pred_horizon=5，方向准确率：68.75%\n",
      "window=100, max_vars=2, pred_horizon=7，方向准确率：55.17%\n",
      "window=100, max_vars=3, pred_horizon=1，方向准确率：55.56%\n",
      "window=100, max_vars=3, pred_horizon=3，方向准确率：52.94%\n",
      "window=100, max_vars=3, pred_horizon=5，方向准确率：68.75%\n",
      "window=100, max_vars=3, pred_horizon=7，方向准确率：70.00%\n",
      "window=100, max_vars=4, pred_horizon=1，方向准确率：55.56%\n",
      "window=100, max_vars=4, pred_horizon=3，方向准确率：50.00%\n",
      "window=100, max_vars=4, pred_horizon=5，方向准确率：81.25%\n"
     ]
    },
    {
     "name": "stderr",
     "output_type": "stream",
     "text": [
      "e:\\Anaconda\\envs\\py3.9\\lib\\site-packages\\sklearn\\linear_model\\_least_angle.py:723: ConvergenceWarning: Regressors in active set degenerate. Dropping a regressor, after 3 iterations, i.e. alpha=5.694e-03, with an active set of 3 regressors, and the smallest cholesky pivot element being 9.541e-08. Reduce max_iter or increase eps parameters.\n",
      "  warnings.warn(\n"
     ]
    },
    {
     "name": "stdout",
     "output_type": "stream",
     "text": [
      "window=100, max_vars=4, pred_horizon=7，方向准确率：60.00%\n",
      "window=100, max_vars=5, pred_horizon=1，方向准确率：55.56%\n"
     ]
    },
    {
     "name": "stderr",
     "output_type": "stream",
     "text": [
      "e:\\Anaconda\\envs\\py3.9\\lib\\site-packages\\sklearn\\linear_model\\_least_angle.py:723: ConvergenceWarning: Regressors in active set degenerate. Dropping a regressor, after 4 iterations, i.e. alpha=1.360e-03, with an active set of 3 regressors, and the smallest cholesky pivot element being 5.771e-08. Reduce max_iter or increase eps parameters.\n",
      "  warnings.warn(\n"
     ]
    },
    {
     "name": "stdout",
     "output_type": "stream",
     "text": [
      "window=100, max_vars=5, pred_horizon=3，方向准确率：50.00%\n"
     ]
    },
    {
     "name": "stderr",
     "output_type": "stream",
     "text": [
      "e:\\Anaconda\\envs\\py3.9\\lib\\site-packages\\sklearn\\linear_model\\_least_angle.py:723: ConvergenceWarning: Regressors in active set degenerate. Dropping a regressor, after 4 iterations, i.e. alpha=2.909e-03, with an active set of 4 regressors, and the smallest cholesky pivot element being 9.424e-08. Reduce max_iter or increase eps parameters.\n",
      "  warnings.warn(\n",
      "e:\\Anaconda\\envs\\py3.9\\lib\\site-packages\\sklearn\\linear_model\\_least_angle.py:723: ConvergenceWarning: Regressors in active set degenerate. Dropping a regressor, after 4 iterations, i.e. alpha=3.040e-03, with an active set of 4 regressors, and the smallest cholesky pivot element being 5.960e-08. Reduce max_iter or increase eps parameters.\n",
      "  warnings.warn(\n",
      "e:\\Anaconda\\envs\\py3.9\\lib\\site-packages\\sklearn\\linear_model\\_least_angle.py:723: ConvergenceWarning: Regressors in active set degenerate. Dropping a regressor, after 4 iterations, i.e. alpha=2.751e-03, with an active set of 3 regressors, and the smallest cholesky pivot element being 7.598e-08. Reduce max_iter or increase eps parameters.\n",
      "  warnings.warn(\n",
      "e:\\Anaconda\\envs\\py3.9\\lib\\site-packages\\sklearn\\linear_model\\_least_angle.py:723: ConvergenceWarning: Regressors in active set degenerate. Dropping a regressor, after 4 iterations, i.e. alpha=5.259e-03, with an active set of 3 regressors, and the smallest cholesky pivot element being 8.429e-08. Reduce max_iter or increase eps parameters.\n",
      "  warnings.warn(\n"
     ]
    },
    {
     "name": "stdout",
     "output_type": "stream",
     "text": [
      "window=100, max_vars=5, pred_horizon=5，方向准确率：71.88%\n"
     ]
    },
    {
     "name": "stderr",
     "output_type": "stream",
     "text": [
      "e:\\Anaconda\\envs\\py3.9\\lib\\site-packages\\sklearn\\linear_model\\_least_angle.py:723: ConvergenceWarning: Regressors in active set degenerate. Dropping a regressor, after 4 iterations, i.e. alpha=5.185e-03, with an active set of 3 regressors, and the smallest cholesky pivot element being 9.424e-08. Reduce max_iter or increase eps parameters.\n",
      "  warnings.warn(\n",
      "e:\\Anaconda\\envs\\py3.9\\lib\\site-packages\\sklearn\\linear_model\\_least_angle.py:723: ConvergenceWarning: Regressors in active set degenerate. Dropping a regressor, after 3 iterations, i.e. alpha=5.694e-03, with an active set of 3 regressors, and the smallest cholesky pivot element being 9.541e-08. Reduce max_iter or increase eps parameters.\n",
      "  warnings.warn(\n"
     ]
    },
    {
     "name": "stdout",
     "output_type": "stream",
     "text": [
      "window=100, max_vars=5, pred_horizon=7，方向准确率：66.67%\n",
      "window=120, max_vars=2, pred_horizon=1，方向准确率：73.33%\n",
      "window=120, max_vars=2, pred_horizon=3，方向准确率：71.43%\n",
      "window=120, max_vars=2, pred_horizon=5，方向准确率：91.67%\n",
      "window=120, max_vars=2, pred_horizon=7，方向准确率：100.00%\n",
      "window=120, max_vars=3, pred_horizon=1，方向准确率：81.25%\n",
      "window=120, max_vars=3, pred_horizon=3，方向准确率：71.43%\n",
      "window=120, max_vars=3, pred_horizon=5，方向准确率：91.67%\n",
      "window=120, max_vars=3, pred_horizon=7，方向准确率：90.00%\n",
      "window=120, max_vars=4, pred_horizon=1，方向准确率：81.25%\n",
      "window=120, max_vars=4, pred_horizon=3，方向准确率：78.57%\n",
      "window=120, max_vars=4, pred_horizon=5，方向准确率：91.67%\n",
      "window=120, max_vars=4, pred_horizon=7，方向准确率：100.00%\n",
      "window=120, max_vars=5, pred_horizon=1，方向准确率：75.00%\n",
      "window=120, max_vars=5, pred_horizon=3，方向准确率：71.43%\n",
      "window=120, max_vars=5, pred_horizon=5，方向准确率：91.67%\n",
      "window=120, max_vars=5, pred_horizon=7，方向准确率：100.00%\n"
     ]
    }
   ],
   "source": [
    "import pandas as pd\n",
    "import numpy as np\n",
    "from sklearn.linear_model import Lars\n",
    "from itertools import combinations\n",
    "import statsmodels.api as sm\n",
    "\n",
    "def lars_bayes_rolling_predict(\n",
    "    df, \n",
    "    factors, \n",
    "    target, \n",
    "    window=60, \n",
    "    pred_horizon=3, \n",
    "    max_vars=5\n",
    "):\n",
    "    df = df.copy()\n",
    "    preds = []\n",
    "    dates = []\n",
    "    for end in range(window, len(df)-pred_horizon):\n",
    "        start = end - window\n",
    "        X_win = df.iloc[start:end][factors]\n",
    "        y_win = df.iloc[start:end][target]\n",
    "        # LARS变量筛选\n",
    "        lars = Lars(n_nonzero_coefs=max_vars)\n",
    "        lars.fit(X_win, y_win)\n",
    "        idx = np.where(lars.coef_ != 0)[0]\n",
    "        selected_factors = [factors[i] for i in idx] if len(idx) > 0 else []\n",
    "        # 备选模型\n",
    "        models = []\n",
    "        if len(selected_factors) > 0:\n",
    "            for k in range(1, min(len(selected_factors), max_vars)+1):\n",
    "                for comb in combinations(selected_factors, k):\n",
    "                    X_sub = X_win[list(comb)]\n",
    "                    X_sub = sm.add_constant(X_sub)\n",
    "                    model = sm.OLS(y_win, X_sub).fit()\n",
    "                    if model.rsquared_adj > 0:\n",
    "                        models.append((comb, model))\n",
    "        if not models:\n",
    "            preds.append(np.nan)\n",
    "            dates.append(df.iloc[end]['date'])\n",
    "            continue\n",
    "        bics = np.array([m[1].bic for m in models])\n",
    "        dBIC = bics - bics.min()\n",
    "        weights = np.exp(-dBIC/2)\n",
    "        weights = weights / weights.sum()\n",
    "        X_pred_subs = []\n",
    "        for (comb, model) in models:\n",
    "            X_pred_sub = pd.DataFrame({col: [df.iloc[end][col]] for col in comb})\n",
    "            X_pred_sub = sm.add_constant(X_pred_sub, has_constant='add')\n",
    "            missing_cols = set(model.model.exog_names) - set(X_pred_sub.columns)\n",
    "            for col in missing_cols:\n",
    "                X_pred_sub[col] = 1 if col == 'const' else 0\n",
    "            X_pred_sub = X_pred_sub[model.model.exog_names]\n",
    "            y_hat = model.predict(X_pred_sub).iloc[0]\n",
    "            X_pred_subs.append(np.sign(y_hat) * abs(y_hat))\n",
    "        y_bayes = np.dot(weights, X_pred_subs)\n",
    "        preds.append(y_bayes)\n",
    "        dates.append(df.iloc[end]['date'])\n",
    "    pred_df = pd.DataFrame({\"date\": dates, f\"lars_bayes_pred_{pred_horizon}d\": preds})\n",
    "    df = df.merge(pred_df, on=\"date\", how=\"left\")\n",
    "    return df\n",
    "\n",
    "def calc_direction_accuracy(df, pred_col, true_col):\n",
    "    valid = df[[pred_col, true_col]].dropna()\n",
    "    acc = (np.sign(valid[pred_col]) == np.sign(valid[true_col])).mean()\n",
    "    return acc\n",
    "\n",
    "if __name__ == \"__main__\":\n",
    "    df = pd.read_csv(r\"C:\\Users\\l\\OneDrive\\桌面\\东方财富\\511520  hedging strategy\\data\\etf_futures_interest_factors.csv\", parse_dates=[\"date\"])\n",
    "    df[\"spread_change_5d\"] = df[\"spread\"].shift(-5) - df[\"spread\"]\n",
    "    \n",
    "    factors = [\n",
    "        \"factor_10y_gov\", \"factor_1y_gov\", \"factor_30y_gov\", \"factor_5y_gov\",\n",
    "        \"factor_30y_5y_slope\", \"factor_10y_1y_slope\", \"factor_30y_10y_slope\",\n",
    "        \"factor_10y_policy\", \"factor_policy_spread\", \"factor_shibor3m\",\n",
    "        \"factor_r007\", \"factor_fr007\", \"factor_shibor3m_r007_spread\",\n",
    "        \"factor_fr007_shibor3m_spread\", \"factor_curve_curvature\"\n",
    "    ]\n",
    "    \n",
    "    # 循环调参\n",
    "    for window in [60, 90, 100, 120]:\n",
    "        for max_vars in [2, 3, 4, 5]:\n",
    "            for pred_horizon in [1, 3, 5, 7]:\n",
    "                df[\"spread_change_tmp\"] = df[\"spread\"].shift(-pred_horizon) - df[\"spread\"]\n",
    "                df_pred = lars_bayes_rolling_predict(df, factors, \"spread_change_tmp\", window=window, pred_horizon=pred_horizon, max_vars=max_vars)\n",
    "                acc = calc_direction_accuracy(df_pred, f\"lars_bayes_pred_{pred_horizon}d\", \"spread_change_tmp\")\n",
    "                print(f\"window={window}, max_vars={max_vars}, pred_horizon={pred_horizon}，方向准确率：{acc:.2%}\")"
   ]
  },
  {
   "cell_type": "code",
   "execution_count": 7,
   "id": "52aea92c",
   "metadata": {},
   "outputs": [
    {
     "name": "stdout",
     "output_type": "stream",
     "text": [
      "未来5日价差变化方向预测准确率：81.25%\n"
     ]
    }
   ],
   "source": [
    "import pandas as pd\n",
    "import numpy as np\n",
    "from sklearn.linear_model import Lars\n",
    "from itertools import combinations\n",
    "import statsmodels.api as sm\n",
    "\n",
    "def lars_bayes_rolling_predict(\n",
    "    df, \n",
    "    factors, \n",
    "    target, \n",
    "    window=100, \n",
    "    pred_horizon=5, \n",
    "    max_vars=4\n",
    "):\n",
    "    df = df.copy()\n",
    "    preds = []\n",
    "    dates = []\n",
    "    for end in range(window, len(df)-pred_horizon):\n",
    "        start = end - window\n",
    "        X_win = df.iloc[start:end][factors]\n",
    "        y_win = df.iloc[start:end][target]\n",
    "        # LARS变量筛选\n",
    "        lars = Lars(n_nonzero_coefs=max_vars)\n",
    "        lars.fit(X_win, y_win)\n",
    "        idx = np.where(lars.coef_ != 0)[0]\n",
    "        selected_factors = [factors[i] for i in idx] if len(idx) > 0 else []\n",
    "        # 备选模型\n",
    "        models = []\n",
    "        if len(selected_factors) > 0:\n",
    "            for k in range(1, min(len(selected_factors), max_vars)+1):\n",
    "                for comb in combinations(selected_factors, k):\n",
    "                    X_sub = X_win[list(comb)]\n",
    "                    X_sub = sm.add_constant(X_sub)\n",
    "                    model = sm.OLS(y_win, X_sub).fit()\n",
    "                    if model.rsquared_adj > 0:\n",
    "                        models.append((comb, model))\n",
    "        if not models:\n",
    "            preds.append(np.nan)\n",
    "            dates.append(df.iloc[end]['date'])\n",
    "            continue\n",
    "        bics = np.array([m[1].bic for m in models])\n",
    "        dBIC = bics - bics.min()\n",
    "        weights = np.exp(-dBIC/2)\n",
    "        weights = weights / weights.sum()\n",
    "        X_pred_subs = []\n",
    "        for (comb, model) in models:\n",
    "            X_pred_sub = pd.DataFrame({col: [df.iloc[end][col]] for col in comb})\n",
    "            X_pred_sub = sm.add_constant(X_pred_sub, has_constant='add')\n",
    "            missing_cols = set(model.model.exog_names) - set(X_pred_sub.columns)\n",
    "            for col in missing_cols:\n",
    "                X_pred_sub[col] = 1 if col == 'const' else 0\n",
    "            X_pred_sub = X_pred_sub[model.model.exog_names]\n",
    "            y_hat = model.predict(X_pred_sub).iloc[0]\n",
    "            X_pred_subs.append(np.sign(y_hat) * abs(y_hat))\n",
    "        y_bayes = np.dot(weights, X_pred_subs)\n",
    "        preds.append(y_bayes)\n",
    "        dates.append(df.iloc[end]['date'])\n",
    "    pred_df = pd.DataFrame({\"date\": dates, f\"lars_bayes_pred_{pred_horizon}d\": preds})\n",
    "    df = df.merge(pred_df, on=\"date\", how=\"left\")\n",
    "    return df\n",
    "\n",
    "def calc_direction_accuracy(df, pred_col, true_col):\n",
    "    valid = df[[pred_col, true_col]].dropna()\n",
    "    acc = (np.sign(valid[pred_col]) == np.sign(valid[true_col])).mean()\n",
    "    return acc\n",
    "\n",
    "if __name__ == \"__main__\":\n",
    "    df = pd.read_csv(r\"C:\\Users\\l\\OneDrive\\桌面\\东方财富\\511520  hedging strategy\\data\\etf_futures_interest_factors.csv\", parse_dates=[\"date\"])\n",
    "    df[\"spread_change_5d\"] = df[\"spread\"].shift(-5) - df[\"spread\"]\n",
    "     \n",
    "    factors = [\n",
    "        \"factor_10y_gov\", \"factor_1y_gov\", \"factor_30y_gov\", \"factor_5y_gov\",\n",
    "        \"factor_30y_5y_slope\", \"factor_10y_1y_slope\", \"factor_30y_10y_slope\",\n",
    "        \"factor_10y_policy\", \"factor_policy_spread\", \"factor_shibor3m\",\n",
    "        \"factor_r007\", \"factor_fr007\", \"factor_shibor3m_r007_spread\",\n",
    "        \"factor_fr007_shibor3m_spread\", \"factor_curve_curvature\"\n",
    "    ]\n",
    "    # 滚动LARS+BIC贝叶斯预测\n",
    "    df = lars_bayes_rolling_predict(df, factors, \"spread_change_5d\", window=100, pred_horizon=5, max_vars=4)\n",
    "    # 保存结果\n",
    "    df.to_csv(r\"C:\\Users\\l\\OneDrive\\桌面\\东方财富\\511520  hedging strategy\\prediction\\spread_lars_bayes_pred_win100_5d.csv\", index=False, encoding=\"utf-8-sig\")\n",
    "    # 方向预测准确率\n",
    "    acc = calc_direction_accuracy(df, \"lars_bayes_pred_5d\", \"spread_change_5d\")\n",
    "    print(f\"未来5日价差变化方向预测准确率：{acc:.2%}\")"
   ]
  },
  {
   "cell_type": "code",
   "execution_count": 3,
   "id": "dc07224d",
   "metadata": {},
   "outputs": [
    {
     "data": {
      "image/png": "[encoded data removed]",
      "text/plain": [
       "<Figure size 1400x600 with 1 Axes>"
      ]
     },
     "metadata": {},
     "output_type": "display_data"
    }
   ],
   "source": [
    "import matplotlib.pyplot as plt\n",
    "\n",
    "# Only keep rows with prediction results\n",
    "plot_df = df.dropna(subset=[\"lars_bayes_pred_5d\", \"spread_change_5d\"]).copy()\n",
    "\n",
    "plt.figure(figsize=(14, 6))\n",
    "plt.plot(plot_df[\"date\"], plot_df[\"spread_change_5d\"], label=\"True 5-day Spread Change\", marker='o')\n",
    "plt.plot(plot_df[\"date\"], plot_df[\"lars_bayes_pred_5d\"], label=\"Model Prediction\", marker='x')\n",
    "plt.axhline(0, color='gray', linestyle='--', linewidth=1)\n",
    "plt.title(\"1-Day Spread Change: Prediction vs True Value\")\n",
    "plt.xlabel(\"Date\")\n",
    "plt.ylabel(\"Spread Change\")\n",
    "plt.legend()\n",
    "plt.tight_layout()\n",
    "plt.show()"
   ]
  },
  {
   "cell_type": "code",
   "execution_count": 4,
   "id": "41f1d48a",
   "metadata": {},
   "outputs": [
    {
     "name": "stdout",
     "output_type": "stream",
     "text": [
      "        date  open_etf  close_etf  high_etf  low_etf  volume_etf    turnover  \\\n",
      "0 2024-12-16   114.341    114.655   114.699  114.341      705557  8087335057   \n",
      "1 2024-12-17   114.530    114.448   114.530  114.305      790942  9048397555   \n",
      "2 2024-12-18   114.541    114.243   114.689  113.913      356201  4072494788   \n",
      "3 2024-12-19   114.370    114.251   114.424  114.190      615158  7031301589   \n",
      "4 2024-12-20   114.550    114.678   114.686  114.516      656408  7521561774   \n",
      "\n",
      "   amplitude  pct_change    chg  ...  factor_fr007  \\\n",
      "0       0.31        0.40  0.459  ...        1.4736   \n",
      "1       0.20       -0.18 -0.207  ...        1.5053   \n",
      "2       0.68       -0.18 -0.205  ...        1.4879   \n",
      "3       0.20        0.01  0.008  ...        1.4862   \n",
      "4       0.15        0.37  0.427  ...        1.4428   \n",
      "\n",
      "   factor_shibor3m_r007_spread  factor_fr007_shibor3m_spread  \\\n",
      "0                      -0.2270                       -0.2514   \n",
      "1                      -0.3789                       -0.2127   \n",
      "2                      -0.1964                       -0.2271   \n",
      "3                      -0.1098                       -0.2258   \n",
      "4                      -0.0446                       -0.2652   \n",
      "\n",
      "   factor_curve_curvature  spread   etf_ret   fut_ret  corr_20d  etf_vol_20d  \\\n",
      "0                 -0.3520   6.110       NaN       NaN       NaN          NaN   \n",
      "1                 -0.3782   5.988 -0.001805 -0.000783       NaN          NaN   \n",
      "2                 -0.3450   5.903 -0.001791 -0.001106       NaN          NaN   \n",
      "3                 -0.4484   5.871  0.000070  0.000369       NaN          NaN   \n",
      "4                 -0.5193   5.908  0.003737  0.003598       NaN          NaN   \n",
      "\n",
      "   fut_vol_20d  \n",
      "0          NaN  \n",
      "1          NaN  \n",
      "2          NaN  \n",
      "3          NaN  \n",
      "4          NaN  \n",
      "\n",
      "[5 rows x 46 columns]\n"
     ]
    }
   ],
   "source": [
    "import pandas as pd\n",
    "\n",
    "df = pd.read_csv(r\"C:\\Users\\l\\OneDrive\\桌面\\东方财富\\511520  hedging strategy\\data\\etf_futures_interest_factors.csv\", parse_dates=[\"date\"])\n",
    "\n",
    "print(df.head())"
   ]
  }
 ],
 "metadata": {
  "kernelspec": {
   "display_name": "py3.9",
   "language": "python",
   "name": "python3"
  },
  "language_info": {
   "codemirror_mode": {
    "name": "ipython",
    "version": 3
   },
   "file_extension": ".py",
   "mimetype": "text/x-python",
   "name": "python",
   "nbconvert_exporter": "python",
   "pygments_lexer": "ipython3",
   "version": "3.9.21"
  }
 },
 "nbformat": 4,
 "nbformat_minor": 5
}
